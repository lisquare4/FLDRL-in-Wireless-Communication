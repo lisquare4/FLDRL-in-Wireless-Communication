{
 "nbformat": 4,
 "nbformat_minor": 0,
 "metadata": {
  "kernelspec": {
   "display_name": "Python 3",
   "language": "python",
   "name": "python3"
  },
  "language_info": {
   "codemirror_mode": {
    "name": "ipython",
    "version": 3
   },
   "file_extension": ".py",
   "mimetype": "text/x-python",
   "name": "python",
   "nbconvert_exporter": "python",
   "pygments_lexer": "ipython3",
   "version": "3.7.4"
  },
  "colab": {
   "name": "virtualization.ipynb",
   "provenance": []
  },
  "accelerator": "GPU"
 },
 "cells": [
  {
   "cell_type": "markdown",
   "source": [
    "# Google Colab开发环境配置\n",
    "### @Lisquare\n",
    "## 1. 下载代码"
   ],
   "metadata": {
    "collapsed": false,
    "pycharm": {
     "name": "#%% md\n"
    }
   }
  },
  {
   "cell_type": "code",
   "metadata": {
    "id": "d98XkrbUhvQ8",
    "outputId": "891c675b-dc71-4014-f0c4-c40b0c7b1a03",
    "colab": {
     "base_uri": "https://localhost:8080/"
    },
    "pycharm": {
     "name": "#%%\n"
    }
   },
   "source": [
    "!git clone https://github.com/lisquare4/FLDRL-in-Wireless-Communication\n"
   ],
   "execution_count": null,
   "outputs": []
  },
  {
   "cell_type": "markdown",
   "source": [
    "## 2. 进入工作路径"
   ],
   "metadata": {
    "collapsed": false
   }
  },
  {
   "cell_type": "code",
   "execution_count": null,
   "outputs": [],
   "source": [
    "%cd /content/FLDRL-in-Wireless-Communication"
   ],
   "metadata": {
    "collapsed": false,
    "pycharm": {
     "name": "#%%\n"
    }
   }
  },
  {
   "cell_type": "markdown",
   "source": [
    "## 3. 载入画图脚本运行"
   ],
   "metadata": {
    "collapsed": false
   }
  },
  {
   "cell_type": "code",
   "metadata": {
    "id": "_FREBTnuhmnX"
   },
   "source": [
    "import random\n",
    "from libs.node import Node\n",
    "from libs.node import Station\n",
    "from libs.node import StationDcf\n",
    "from libs.node import StationRl\n",
    "from libs.channel import Channel\n",
    "from tqdm import tqdm\n",
    "from config import Config\n",
    "import matplotlib.pyplot as plt"
   ],
   "execution_count": 6,
   "outputs": []
  },
  {
   "cell_type": "markdown",
   "source": [
    " - 3.1 配置文件"
   ],
   "metadata": {
    "collapsed": false
   }
  },
  {
   "cell_type": "code",
   "metadata": {
    "id": "3Rjv_7r0hmnX"
   },
   "source": [
    "cfg = Config()\n",
    "global_time = 0\n",
    "channel = Channel(global_time, [])\n",
    "\n",
    "station_num = 5\n",
    "data_rate = 6 #Mbps\n",
    "#All the lengeth is a mutible of slot\n",
    "\n",
    "#incule header\n",
    "pkt_len = 1560\n",
    "#us\n",
    "slot_len = 10\n",
    "sifs = 2\n",
    "ack_len = 2 + sifs\n",
    "difs = 4\n",
    "timeout = ack_len\n",
    "\n",
    "frame_len = pkt_len * 8 / slot_len / data_rate\n",
    "stations_list = []\n",
    "total_time = 0\n",
    "\n",
    "#station = StationDcf(i+1, frame_len, channel, global_time, i+1, timeout, ack_len, difs, sifs)\n",
    "#stations_list.append(station)\n",
    "\n",
    "for i in range(station_num):\n",
    "    if cfg.stationType == \"Dcf\":\n",
    "        station = StationDcf(i, frame_len, channel, global_time, i, timeout, ack_len, difs, sifs)\n",
    "    elif cfg.stationType == \"RL\":\n",
    "        station = StationRl(i, frame_len, channel, global_time, i, timeout, ack_len, (i+1))\n",
    "    stations_list.append(station)"
   ],
   "execution_count": 7,
   "outputs": []
  },
  {
   "cell_type": "code",
   "metadata": {
    "id": "P9tntnHehmnX",
    "outputId": "637490a8-f958-4e6c-99b5-7892bf06b54d",
    "colab": {
     "base_uri": "https://localhost:8080/"
    }
   },
   "source": [
    "stations_list"
   ],
   "execution_count": 8,
   "outputs": [
    {
     "output_type": "execute_result",
     "data": {
      "text/plain": [
       "[<libs.node.StationRl at 0x7f45f8264978>,\n",
       " <libs.node.StationRl at 0x7f45f8264a58>,\n",
       " <libs.node.StationRl at 0x7f45f8264dd8>,\n",
       " <libs.node.StationRl at 0x7f45f0637240>,\n",
       " <libs.node.StationRl at 0x7f45f0637668>]"
      ]
     },
     "metadata": {
      "tags": []
     },
     "execution_count": 8
    }
   ]
  },
  {
   "cell_type": "markdown",
   "source": [
    " - 3.2 模型训练"
   ],
   "metadata": {
    "collapsed": false
   }
  },
  {
   "cell_type": "code",
   "metadata": {
    "id": "0cwsAvrshmnX",
    "outputId": "2b378924-dcd0-4994-e28a-99fbcef63422",
    "colab": {
     "base_uri": "https://localhost:8080/"
    }
   },
   "source": [
    "if cfg.stationType == \"Dcf\":\n",
    "    startEpoch = 0\n",
    "elif cfg.stationType == \"RL\":\n",
    "    startEpoch = stations_list[0].epoch\n",
    "\n",
    "print(\"==> startEpoch: \", startEpoch)\n",
    "for i in tqdm(range(startEpoch, startEpoch+cfg.NUM_EPOCHS)):\n",
    "    for station in stations_list:\n",
    "        station.simulate(global_time)\n",
    "    global_time = global_time + 1\n",
    "    channel.update_state(global_time)\n",
    "\n",
    "    if cfg.shuffleStationList:\n",
    "        random.shuffle(stations_list)\n",
    "\n",
    "for station in stations_list:\n",
    "    total_time += station.total_pkt_time\n",
    "\n",
    "    if cfg.stationType == \"RL\":\n",
    "        station.saveModel()\n",
    "print(\"==> total_time:\", total_time)\n",
    "total_time_channel = 0\n",
    "for i in range(len(channel.start) ):\n",
    "    if(i > 0):\n",
    "        if ((channel.start[i] - channel.start[i-1]) < frame_len):\n",
    "            continue\n",
    "    total_time_channel += frame_len\n",
    "print(\"==> total_time_channel:\", total_time_channel)\n",
    "print(\"==> channel time:\", channel.time)\n",
    "throughput = total_time/channel.time * data_rate * 1500 / 1560\n",
    "print(\"==> throughput:\", throughput)"
   ],
   "execution_count": 9,
   "outputs": [
    {
     "output_type": "stream",
     "text": [
      "\r  0%|          | 0/10000 [00:00<?, ?it/s]"
     ],
     "name": "stderr"
    },
    {
     "output_type": "stream",
     "text": [
      "==> startEpoch:  0\n"
     ],
     "name": "stdout"
    },
    {
     "output_type": "stream",
     "text": [
      "100%|██████████| 10000/10000 [02:25<00:00, 68.78it/s]"
     ],
     "name": "stderr"
    },
    {
     "output_type": "stream",
     "text": [
      "==> saving model...\n",
      "==> saving model...\n",
      "==> saving model...\n",
      "==> saving model...\n",
      "==> saving model...\n",
      "==> total_time: 1248.0\n",
      "==> total_time_channel: 9776.0\n",
      "==> channel time: 9825.0\n",
      "==> throughput: 0.7328244274809161\n"
     ],
     "name": "stdout"
    },
    {
     "output_type": "stream",
     "text": [
      "\n"
     ],
     "name": "stderr"
    }
   ]
  },
  {
   "cell_type": "markdown",
   "source": [
    " - 3.3 全局结果图"
   ],
   "metadata": {
    "collapsed": false
   }
  },
  {
   "cell_type": "code",
   "metadata": {
    "id": "gPXRR83ChmnX",
    "outputId": "abb5ee07-1f8a-4951-e522-e28777d8b32d",
    "colab": {
     "base_uri": "https://localhost:8080/",
     "height": 265
    }
   },
   "source": [
    "for i in range(len(channel.start)):\n",
    "    x=[channel.start[i], channel.end[i]]\n",
    "    y= [channel.operator[i], channel.operator[i]]\n",
    "    plt.plot(x, y, color='b')\n",
    "    plt.scatter(x, y, color='r')"
   ],
   "execution_count": 10,
   "outputs": [
    {
     "output_type": "display_data",
     "data": {
      "image/png": "[encoded data removed]",
      "text/plain": [
       "<Figure size 432x288 with 1 Axes>"
      ]
     },
     "metadata": {
      "tags": [],
      "needs_background": "light"
     }
    }
   ]
  },
  {
   "cell_type": "markdown",
   "source": [
    " - 3.4 局部结果图"
   ],
   "metadata": {
    "collapsed": false
   }
  },
  {
   "cell_type": "code",
   "metadata": {
    "id": "0uPzaBcNhmnX",
    "outputId": "3610a09f-578b-41a7-81b7-c0e09f7f8f4b",
    "colab": {
     "base_uri": "https://localhost:8080/",
     "height": 605
    }
   },
   "source": [
    "k = len(channel.start) - 1\n",
    "for i in range(10):\n",
    "    x=[channel.start[k - i], channel.end[k - i]]\n",
    "    print(x)\n",
    "    y= [channel.operator[k - i], channel.operator[k - i]]\n",
    "    print(y)\n",
    "    plt.plot(x, y, color='b')\n",
    "    plt.scatter(x, y, color='r')"
   ],
   "execution_count": 11,
   "outputs": [
    {
     "output_type": "stream",
     "text": [
      "[9616, 9824]\n",
      "[4, 4]\n",
      "[9616, 9824]\n",
      "[0, 0]\n",
      "[9616, 9824]\n",
      "[1, 1]\n",
      "[9616, 9824]\n",
      "[2, 2]\n",
      "[9407, 9615]\n",
      "[4, 4]\n",
      "[9407, 9615]\n",
      "[3, 3]\n",
      "[9198, 9406]\n",
      "[1, 1]\n",
      "[9198, 9406]\n",
      "[3, 3]\n",
      "[9198, 9406]\n",
      "[2, 2]\n",
      "[8989, 9197]\n",
      "[2, 2]\n"
     ],
     "name": "stdout"
    },
    {
     "output_type": "display_data",
     "data": {
      "image/png": "[encoded data removed]",
      "text/plain": [
       "<Figure size 432x288 with 1 Axes>"
      ]
     },
     "metadata": {
      "tags": [],
      "needs_background": "light"
     }
    }
   ]
  }
 ]
}