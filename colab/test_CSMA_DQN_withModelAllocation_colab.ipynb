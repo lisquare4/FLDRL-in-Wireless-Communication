{
  "nbformat": 4,
  "nbformat_minor": 0,
  "metadata": {
    "accelerator": "GPU",
    "colab": {
      "name": "test_CSMA_DQN_withModelAllocation_colab.ipynb",
      "provenance": [],
      "collapsed_sections": []
    },
    "kernelspec": {
      "display_name": "Python 3",
      "name": "python3"
    }
  },
  "cells": [
    {
      "cell_type": "code",
      "metadata": {
        "id": "u41dW9ErYOGU"
      },
      "source": [
        "!rm FLDRL-in-Wireless-Communication/ -rf"
      ],
      "execution_count": null,
      "outputs": []
    },
    {
      "cell_type": "code",
      "metadata": {
        "colab": {
          "base_uri": "https://localhost:8080/"
        },
        "id": "7gxX-J6nP9pW",
        "outputId": "15937736-5426-48d1-8a5c-c1903a8be535"
      },
      "source": [
        "!git clone https://github.com/lisquare4/FLDRL-in-Wireless-Communication\n"
      ],
      "execution_count": null,
      "outputs": [
        {
          "output_type": "stream",
          "text": [
            "Cloning into 'FLDRL-in-Wireless-Communication'...\n",
            "remote: Enumerating objects: 336, done.\u001b[K\n",
            "remote: Counting objects: 100% (336/336), done.\u001b[K\n",
            "remote: Compressing objects: 100% (245/245), done.\u001b[K\n",
            "remote: Total 336 (delta 145), reused 264 (delta 87), pack-reused 0\u001b[K\n",
            "Receiving objects: 100% (336/336), 3.93 MiB | 17.07 MiB/s, done.\n",
            "Resolving deltas: 100% (145/145), done.\n"
          ],
          "name": "stdout"
        }
      ]
    },
    {
      "cell_type": "code",
      "metadata": {
        "colab": {
          "background_save": true
        },
        "id": "ThCIbW5PYgh7"
      },
      "source": [
        "%cd FLDRL-in-Wireless-Communication/\n",
        "!sed '30s/False/True/' config.py"
      ],
      "execution_count": null,
      "outputs": []
    },
    {
      "cell_type": "code",
      "metadata": {
        "colab": {
          "base_uri": "https://localhost:8080/"
        },
        "id": "pu7FGo-9QPUf",
        "outputId": "50dc0d98-1f6d-4c91-f10f-2c7ce231bafb"
      },
      "source": [
        "!python ./test_CSMA_DQN_withModelAllocation.py"
      ],
      "execution_count": null,
      "outputs": [
        {
          "output_type": "stream",
          "text": [
            "==> startEpoch:  0\n",
            "100% 10000/10000 [02:34<00:00, 64.67it/s]\n",
            "==> total_time: 2496.0\n",
            "==> total_time_channel: 9984.0\n",
            "==> channel time: 10032.0\n",
            "==> throughput: 1.4354066985645932\n",
            "station.Id:3, station.total_pkt_time:208.0\n",
            "station.Id:2, station.total_pkt_time:208.0\n",
            "station.Id:1, station.total_pkt_time:416.0\n",
            "station.Id:4, station.total_pkt_time:832.0\n",
            "station.Id:5, station.total_pkt_time:832.0\n",
            "5664\n",
            "5250\n",
            "5011\n",
            "4008\n",
            "4390\n"
          ],
          "name": "stdout"
        }
      ]
    }
  ]
}