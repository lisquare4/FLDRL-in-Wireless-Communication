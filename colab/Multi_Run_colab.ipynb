{
  "nbformat": 4,
  "nbformat_minor": 0,
  "metadata": {
    "kernelspec": {
      "name": "python3",
      "display_name": "Python 3"
    },
    "colab": {
      "name": "Multi_Run.ipynb",
      "provenance": [],
      "toc_visible": true
    },
    "accelerator": "GPU"
  },
  "cells": [
    {
      "cell_type": "code",
      "metadata": {
        "id": "Qp-O-_Eqp_RY",
        "outputId": "fb440ed8-c485-4024-cfaa-8a9851171af7",
        "colab": {
          "base_uri": "https://localhost:8080/"
        }
      },
      "source": [
        "!git clone https://github.com/lisquare4/FLDRL-in-Wireless-Communication\n",
        "%cd /content/FLDRL-in-Wireless-Communication\n"
      ],
      "execution_count": 1,
      "outputs": [
        {
          "output_type": "stream",
          "text": [
            "Cloning into 'FLDRL-in-Wireless-Communication'...\n",
            "remote: Enumerating objects: 336, done.\u001b[K\n",
            "remote: Counting objects: 100% (336/336), done.\u001b[K\n",
            "remote: Compressing objects: 100% (245/245), done.\u001b[K\n",
            "remote: Total 336 (delta 145), reused 264 (delta 87), pack-reused 0\u001b[K\n",
            "Receiving objects: 100% (336/336), 3.93 MiB | 29.83 MiB/s, done.\n",
            "Resolving deltas: 100% (145/145), done.\n",
            "/content/FLDRL-in-Wireless-Communication\n"
          ],
          "name": "stdout"
        }
      ]
    },
    {
      "cell_type": "code",
      "metadata": {
        "id": "oVc8y7wNp89L"
      },
      "source": [
        "import random\n",
        "from libs.node import Node\n",
        "from libs.node import Station\n",
        "from libs.node import StationDcf\n",
        "from libs.node import StationRl\n",
        "from libs.channel import Channel\n",
        "from tqdm import tqdm\n",
        "from config import Config\n",
        "from libs.allocateModel import Allocator\n",
        "import matplotlib.pyplot as plt"
      ],
      "execution_count": 2,
      "outputs": []
    },
    {
      "cell_type": "markdown",
      "metadata": {
        "id": "i5O6PuAzp89N"
      },
      "source": [
        "## Cofigure the simulation parameter"
      ]
    },
    {
      "cell_type": "code",
      "metadata": {
        "id": "gseRobsmp89N"
      },
      "source": [
        "cfg = Config()\n",
        "global_time = 0\n",
        "channel = Channel(global_time, [])\n",
        "\n",
        "station_num = 5\n",
        "data_rate = 6  # Mbps\n",
        "# All the lengeth is a mutible of slot\n",
        "\n",
        "# incule header\n",
        "pkt_len = 1560\n",
        "# us\n",
        "slot_len = 10\n",
        "sifs = 2\n",
        "ack_len = 2 + sifs\n",
        "difs = 4\n",
        "timeout = ack_len\n",
        "\n",
        "frame_len = pkt_len * 8 / slot_len / data_rate\n",
        "stations_list = []\n",
        "current_througput = []\n",
        "total_time = 0\n"
      ],
      "execution_count": 3,
      "outputs": []
    },
    {
      "cell_type": "markdown",
      "metadata": {
        "id": "OyJilBGFp89N"
      },
      "source": [
        "## Initialize the stations"
      ]
    },
    {
      "cell_type": "code",
      "metadata": {
        "id": "m1BE-K8Bp89O"
      },
      "source": [
        "for i in range(station_num):\n",
        "    if cfg.stationType == \"Dcf\":\n",
        "        station = StationDcf(i, frame_len, channel,\n",
        "                             global_time, i, timeout, ack_len, difs, sifs)\n",
        "    elif cfg.stationType == \"RL\":\n",
        "        station = StationRl(i, frame_len, channel,\n",
        "                            global_time, i, timeout, ack_len, (i+1))\n",
        "    stations_list.append(station)\n",
        "    current_througput.append([0])\n",
        "allocator = Allocator(stations_list, cfg)"
      ],
      "execution_count": 4,
      "outputs": []
    },
    {
      "cell_type": "markdown",
      "metadata": {
        "id": "pgd3M0GWp89O"
      },
      "source": [
        "## Simulate"
      ]
    },
    {
      "cell_type": "code",
      "metadata": {
        "id": "Ka-FJ7AEp89O",
        "outputId": "8238ab7b-3c94-4487-d735-448472e39153",
        "colab": {
          "base_uri": "https://localhost:8080/"
        }
      },
      "source": [
        "if cfg.stationType == \"Dcf\":\n",
        "    startEpoch = 0\n",
        "elif cfg.stationType == \"RL\":\n",
        "    startEpoch = stations_list[0].epoch\n",
        "\n",
        "print(\"==> startEpoch: \", startEpoch)\n",
        "for i in tqdm(range(startEpoch, startEpoch+cfg.NUM_EPOCHS)):\n",
        "    for station in stations_list:\n",
        "        station.simulate(global_time)\n",
        "        k = station.u_id\n",
        "        if channel.time > global_time:\n",
        "            current_througput[k].append(station.total_pkt_time* data_rate * 1500 / 1560/(channel.time+1))\n",
        "        else:\n",
        "            current_througput[k].append(station.total_pkt_time* data_rate * 1500 / 1560/(global_time+1))\n",
        "    global_time = global_time + 1\n",
        "    channel.update_state(global_time)\n",
        "\n",
        "    if cfg.shuffleStationList:\n",
        "        random.shuffle(stations_list)\n",
        "        \n",
        "    if i % cfg.allocate_iter == 0 and i > startEpoch+cfg.startAllocationEpoch:\n",
        "        # print(\"==> allocate model\")\n",
        "        allocator.allocateModel()\n",
        "\n",
        "for station in stations_list:\n",
        "    total_time += station.total_pkt_time\n",
        "    if cfg.saveModel and cfg.stationType == \"RL\":\n",
        "        station.saveModel()\n",
        "if cfg.saveModel:\n",
        "    allocator.saveBestModel()\n",
        "    \n",
        "print(\"==> total_time:\", total_time)\n",
        "total_time_channel = 0"
      ],
      "execution_count": 5,
      "outputs": [
        {
          "output_type": "stream",
          "text": [
            "\r  0%|          | 0/10000 [00:00<?, ?it/s]"
          ],
          "name": "stderr"
        },
        {
          "output_type": "stream",
          "text": [
            "==> startEpoch:  0\n"
          ],
          "name": "stdout"
        },
        {
          "output_type": "stream",
          "text": [
            "100%|██████████| 10000/10000 [02:35<00:00, 64.35it/s]"
          ],
          "name": "stderr"
        },
        {
          "output_type": "stream",
          "text": [
            "==> total_time: 2288.0\n"
          ],
          "name": "stdout"
        },
        {
          "output_type": "stream",
          "text": [
            "\n"
          ],
          "name": "stderr"
        }
      ]
    },
    {
      "cell_type": "markdown",
      "metadata": {
        "id": "tTnJhOmbp89O"
      },
      "source": [
        "## Generate the throughput"
      ]
    },
    {
      "cell_type": "code",
      "metadata": {
        "id": "XCcdzW9Gp89O",
        "outputId": "e3233e48-f933-4fe0-a7d8-6834aebb04d2",
        "colab": {
          "base_uri": "https://localhost:8080/"
        }
      },
      "source": [
        "for i in range(len(channel.start)):\n",
        "    # if(i > 0):\n",
        "    #     if ((channel.start[i] - channel.end[i-1]) < 4):\n",
        "    #         continue\n",
        "    if(i > 0):\n",
        "        if ((channel.start[i] - channel.start[i-1]) < frame_len):\n",
        "            continue\n",
        "    total_time_channel += frame_len\n",
        "\n",
        "print(\"==> total_time_channel:\", total_time_channel)\n",
        "print(\"==> channel time:\", channel.time)\n",
        "\n",
        "try:\n",
        "    throughput = total_time/channel.time * data_rate * 1500 / 1560\n",
        "    print(\"==> throughput:\", throughput)\n",
        "except:\n",
        "    print(\"can't calculate throughput: division by zero\")\n",
        "\n",
        "for station in stations_list:\n",
        "    print(\"station.Id:{}, station.total_pkt_time:{}\".format(\n",
        "        station.Id, station.total_pkt_time))"
      ],
      "execution_count": 6,
      "outputs": [
        {
          "output_type": "stream",
          "text": [
            "==> total_time_channel: 9776.0\n",
            "==> channel time: 9825.0\n",
            "==> throughput: 1.3435114503816796\n",
            "station.Id:4, station.total_pkt_time:208.0\n",
            "station.Id:3, station.total_pkt_time:832.0\n",
            "station.Id:1, station.total_pkt_time:416.0\n",
            "station.Id:2, station.total_pkt_time:832.0\n",
            "station.Id:5, station.total_pkt_time:0.0\n"
          ],
          "name": "stdout"
        }
      ]
    },
    {
      "cell_type": "code",
      "metadata": {
        "id": "-QrYsn0Dp89O",
        "outputId": "00c2260d-0184-42e2-cf8b-1f8b91781930",
        "colab": {
          "base_uri": "https://localhost:8080/",
          "height": 317
        }
      },
      "source": [
        "plt.plot(current_througput[0],label='User1')\n",
        "plt.plot(current_througput[1],label='User2')\n",
        "plt.plot(current_througput[2],label='User3')\n",
        "plt.plot(current_througput[3],label='User4')\n",
        "plt.plot(current_througput[4],label='User5')\n",
        "plt.xlabel('Simulation Time')\n",
        "plt.ylabel('Throughput Mbps')\n",
        "plt.legend()\n",
        "plt.savefig('tpt_all.eps',dpi=1000,format='eps')\n",
        "#plt.scatter(x, y, color='r')"
      ],
      "execution_count": 8,
      "outputs": [
        {
          "output_type": "stream",
          "text": [
            "The PostScript backend does not support transparency; partially transparent artists will be rendered opaque.\n",
            "The PostScript backend does not support transparency; partially transparent artists will be rendered opaque.\n"
          ],
          "name": "stderr"
        },
        {
          "output_type": "display_data",
          "data": {
            "image/png": "[encoded data removed]",
            "text/plain": [
              "<Figure size 432x288 with 1 Axes>"
            ]
          },
          "metadata": {
            "tags": [],
            "needs_background": "light"
          }
        }
      ]
    },
    {
      "cell_type": "code",
      "metadata": {
        "id": "tMBl-CMnp89O"
      },
      "source": [
        ""
      ],
      "execution_count": null,
      "outputs": []
    }
  ]
}